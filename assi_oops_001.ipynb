{
 "cells": [
  {
   "cell_type": "markdown",
   "id": "9b3f89db-9573-4665-b516-53399cef252f",
   "metadata": {},
   "source": [
    "### Q1. Explain Class and Object with respect to Object-Oriented Programming. Give a suitable example."
   ]
  },
  {
   "cell_type": "markdown",
   "id": "986f7a3a-224e-48dc-aaa0-15b28a0c9fe2",
   "metadata": {},
   "source": [
    "#### A class is a user-defined blueprint or prototype from which objects are created. Classes provide a means of bundling data and functionality together. Creating a new class creates a new type of object, allowing new instances of that type to be made. Each class instance can have attributes attached to it to maintain its state. Class instances can also have methods (defined by their class) for modifying their state.\n",
    "\n"
   ]
  },
  {
   "cell_type": "markdown",
   "id": "cbc3bb30-a424-4835-a389-7c6f59df775a",
   "metadata": {},
   "source": [
    "#### In Python programming an Object is an instance of a Class. A class is like a blueprint while an instance is a copy of the class with actual values. It’s not an idea anymore, it’s an actual dog, like a dog of breed pug who’s seven years old. You can have many dogs to create many different instances, but without the class as a guide, you would be lost, not knowing what information is required.\n",
    "\n"
   ]
  },
  {
   "cell_type": "code",
   "execution_count": 9,
   "id": "d1eeab80-d028-400f-8cf1-8e302ccab4cb",
   "metadata": {},
   "outputs": [],
   "source": [
    "class Human:\n",
    "    def __init__(self, name, age):\n",
    "        self.name = name  \n",
    "        self.age = age    \n",
    "\n",
    "    def greet(self):\n",
    "        return f\"Hello, my name is {self.name} and I am {self.age} years old.\"\n"
   ]
  },
  {
   "cell_type": "code",
   "execution_count": 10,
   "id": "15b20d72-719f-4aa7-8c4e-a5db8251b05c",
   "metadata": {},
   "outputs": [],
   "source": [
    "person1 = Human(\"Aasma\", 30)"
   ]
  },
  {
   "cell_type": "code",
   "execution_count": 11,
   "id": "77912d07-bf85-4b0c-9ef4-1ca428725322",
   "metadata": {},
   "outputs": [],
   "source": [
    "person2 = Human(\"Bobita\", 25)"
   ]
  },
  {
   "cell_type": "code",
   "execution_count": 12,
   "id": "a90e26b6-8293-47ed-81d1-d2cf1b21d31d",
   "metadata": {},
   "outputs": [
    {
     "name": "stdout",
     "output_type": "stream",
     "text": [
      "Hello, my name is Aasma and I am 30 years old.\n",
      "Hello, my name is Bobita and I am 25 years old.\n"
     ]
    }
   ],
   "source": [
    "print(person1.greet())  \n",
    "print(person2.greet())  "
   ]
  },
  {
   "cell_type": "markdown",
   "id": "467f46fd-79fc-48ce-af13-8e23481d4c04",
   "metadata": {},
   "source": [
    "### Q2. Name the four pillars of OOPs.\n"
   ]
  },
  {
   "cell_type": "markdown",
   "id": "733800b8-9f83-4745-a632-411b448f9072",
   "metadata": {},
   "source": [
    "There are four pillars:\n",
    "\n",
    "Encapsulation\n",
    "Inheritance\n",
    "Polymorphism\n",
    "Abstraction\n"
   ]
  },
  {
   "cell_type": "markdown",
   "id": "b869d2ff-b84d-4621-9d69-6c324c8c567b",
   "metadata": {},
   "source": [
    "### Q3. Explain why the __init__() function is used. Give a suitable example."
   ]
  },
  {
   "cell_type": "code",
   "execution_count": null,
   "id": "e4c34392-7beb-43f1-bcbf-aa41b5bf4724",
   "metadata": {},
   "outputs": [],
   "source": [
    "class Human:\n",
    "    def __init__(self, name, age):\n",
    "        self.name = name  \n",
    "        self.age = age    \n",
    "\n",
    "    def greet(self):\n",
    "        return f\"Hello, my name is {self.name} and I am {self.age} years old.\"\n"
   ]
  },
  {
   "cell_type": "markdown",
   "id": "cf51f16a-3e6f-4ee9-9a4e-69e7877f2503",
   "metadata": {},
   "source": [
    "### Q4. Why self is used in OOPs?"
   ]
  },
  {
   "cell_type": "markdown",
   "id": "958aa117-fc4d-4dc2-916f-68207a832620",
   "metadata": {},
   "source": [
    "#### When working with classes in Python, the term “self” refers to the instance of the class that is currently being used. It is customary to use “self” as the first parameter in instance methods of a class. Whenever you call a method of an object created from a class, the object is automatically passed as the first argument using the “self” parameter. This enables you to modify the object’s properties and execute tasks unique to that particular instance.\n",
    "\n",
    "\n"
   ]
  },
  {
   "cell_type": "markdown",
   "id": "3f2f10cd-abb4-4c1a-8819-efbb42d4c452",
   "metadata": {},
   "source": [
    "### Q5. What is inheritance? Give an example for each type of inheritance."
   ]
  },
  {
   "cell_type": "code",
   "execution_count": 14,
   "id": "43fb0f4f-4ad3-4afa-8d3e-b4819782d032",
   "metadata": {},
   "outputs": [],
   "source": [
    "#### Inheritance is defined as the mechanism of inheriting the properties of the base class to the child class."
   ]
  },
  {
   "cell_type": "code",
   "execution_count": null,
   "id": "bb80d20f-e775-40ef-a3f4-a7f0fadbe9ff",
   "metadata": {},
   "outputs": [],
   "source": [
    "#### Single Inheritance:  Single inheritance enables a derived class to inherit properties from a single parent class, thus enabling code reusability and the addition of new features to existing code.\n",
    "\n"
   ]
  },
  {
   "cell_type": "code",
   "execution_count": null,
   "id": "6bff03eb-5187-4268-9479-6ba60a952d72",
   "metadata": {},
   "outputs": [],
   "source": [
    "class Parent:\n",
    "    def func1(self):\n",
    "        print(\"This function is in parent class.\")\n",
    " \n",
    " \n",
    "class Child(Parent):\n",
    "    def func2(self):\n",
    "        print(\"This function is in child class.\")\n",
    " "
   ]
  },
  {
   "cell_type": "code",
   "execution_count": null,
   "id": "855caf4a-0d7f-419d-9094-c077fc0bf919",
   "metadata": {},
   "outputs": [],
   "source": [
    "#### Multiple Inheritance:  When a class can be derived from more than one base class this type of inheritance is called multiple inheritances. In multiple inheritances, all the features of the base classes are inherited into the derived class. \n",
    "\n"
   ]
  },
  {
   "cell_type": "code",
   "execution_count": null,
   "id": "b2457db2-86bd-489e-96bb-3f5c6bcce073",
   "metadata": {},
   "outputs": [],
   "source": [
    "class Mother:\n",
    "    mothername = \"\"\n",
    " \n",
    "    def mother(self):\n",
    "        print(self.mothername)\n",
    " \n",
    " \n",
    "class Father:\n",
    "    fathername = \"\"\n",
    " \n",
    "    def father(self):\n",
    "        print(self.fathername)\n",
    " \n",
    " \n",
    "class Son(Mother, Father):\n",
    "    def parents(self):\n",
    "        print(\"Father :\", self.fathername)\n",
    "        print(\"Mother :\", self.mothername)\n",
    " \n"
   ]
  },
  {
   "cell_type": "code",
   "execution_count": null,
   "id": "37746b90-1624-41fa-8cff-01a0b8cd1d89",
   "metadata": {},
   "outputs": [],
   "source": [
    "#### Multilevel Inheritance : In multilevel inheritance, features of the base class and the derived class are further inherited into the new derived class. This is similar to a relationship representing a child and a grandfather. \n",
    "\n"
   ]
  },
  {
   "cell_type": "code",
   "execution_count": 17,
   "id": "5a52b485-109a-4c06-b8d6-2231e56b372c",
   "metadata": {},
   "outputs": [],
   "source": [
    "class Grandfather:\n",
    " \n",
    "    def __init__(self, grandfathername):\n",
    "        self.grandfathername = grandfathername\n",
    " \n",
    " \n",
    "class Father(Grandfather):\n",
    "    def __init__(self, fathername, grandfathername):\n",
    "        self.fathername = fathername\n",
    " \n",
    "        Grandfather.__init__(self, grandfathername)\n",
    " \n",
    " \n",
    "class Son(Father):\n",
    "    def __init__(self, sonname, fathername, grandfathername):\n",
    "        self.sonname = sonname\n",
    " \n",
    "        Father.__init__(self, fathername, grandfathername)\n",
    " \n",
    "    def print_name(self):\n",
    "        print('Grandfather name :', self.grandfathername)\n",
    "        print(\"Father name :\", self.fathername)\n",
    "        print(\"Son name :\", self.sonname)\n",
    " \n",
    " \n"
   ]
  },
  {
   "cell_type": "markdown",
   "id": "2be965ca-4eee-4d21-9043-55f28b1b57fb",
   "metadata": {},
   "source": [
    "#### Hierarchical Inheritance: When more than one derived class are created from a single base this type of inheritance is called hierarchical inheritance. In this program, we have a parent (base) class and two child (derived) classes.\n",
    "\n"
   ]
  },
  {
   "cell_type": "code",
   "execution_count": 15,
   "id": "48d26f80-a0a4-46dd-92ad-8e1758c310cc",
   "metadata": {},
   "outputs": [],
   "source": [
    "class Parent:\n",
    "    def func1(self):\n",
    "        print(\"This function is in parent class.\")\n",
    " \n",
    " \n",
    "class Child1(Parent):\n",
    "    def func2(self):\n",
    "        print(\"This function is in child 1.\")\n",
    "  \n",
    " \n",
    "class Child2(Parent):\n",
    "    def func3(self):\n",
    "        print(\"This function is in child 2.\")\n",
    " \n",
    " \n"
   ]
  },
  {
   "cell_type": "code",
   "execution_count": null,
   "id": "91e6987b-50d9-4728-bddc-36c2ca6645e7",
   "metadata": {},
   "outputs": [],
   "source": []
  }
 ],
 "metadata": {
  "kernelspec": {
   "display_name": "Python 3 (ipykernel)",
   "language": "python",
   "name": "python3"
  },
  "language_info": {
   "codemirror_mode": {
    "name": "ipython",
    "version": 3
   },
   "file_extension": ".py",
   "mimetype": "text/x-python",
   "name": "python",
   "nbconvert_exporter": "python",
   "pygments_lexer": "ipython3",
   "version": "3.10.8"
  }
 },
 "nbformat": 4,
 "nbformat_minor": 5
}
